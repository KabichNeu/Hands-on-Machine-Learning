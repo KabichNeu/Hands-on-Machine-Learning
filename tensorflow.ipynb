{
  "nbformat": 4,
  "nbformat_minor": 0,
  "metadata": {
    "colab": {
      "name": "tensorflow.ipynb",
      "provenance": [],
      "authorship_tag": "ABX9TyOtqtR9YJLWJOr/qCSI8zdz",
      "include_colab_link": true
    },
    "kernelspec": {
      "name": "python3",
      "display_name": "Python 3"
    }
  },
  "cells": [
    {
      "cell_type": "markdown",
      "metadata": {
        "id": "view-in-github",
        "colab_type": "text"
      },
      "source": [
        "<a href=\"https://colab.research.google.com/github/KabichNeu/Hands-on-Machine-Learning/blob/main/tensorflow.ipynb\" target=\"_parent\"><img src=\"https://colab.research.google.com/assets/colab-badge.svg\" alt=\"Open In Colab\"/></a>"
      ]
    },
    {
      "cell_type": "code",
      "metadata": {
        "id": "GZ3lz5rpnZUL",
        "colab": {
          "base_uri": "https://localhost:8080/"
        },
        "outputId": "f46fb8a4-666e-4466-ad8a-7b2306180eb8"
      },
      "source": [
        "import tensorflow.compat.v1 as tf\n",
        "tf.disable_v2_behavior()"
      ],
      "execution_count": 6,
      "outputs": [
        {
          "output_type": "stream",
          "text": [
            "WARNING:tensorflow:From /usr/local/lib/python3.6/dist-packages/tensorflow/python/compat/v2_compat.py:96: disable_resource_variables (from tensorflow.python.ops.variable_scope) is deprecated and will be removed in a future version.\n",
            "Instructions for updating:\n",
            "non-resource variables are not supported in the long term\n"
          ],
          "name": "stdout"
        }
      ]
    },
    {
      "cell_type": "code",
      "metadata": {
        "id": "pC_0j-Wgn-t9"
      },
      "source": [
        "x = tf.Variable(3, name = 'x')\n",
        "y = tf.Variable(4, name = 'y')"
      ],
      "execution_count": 7,
      "outputs": []
    },
    {
      "cell_type": "code",
      "metadata": {
        "id": "MuqXrPUNoR3H"
      },
      "source": [
        "f = x*x*y + y + 2"
      ],
      "execution_count": 8,
      "outputs": []
    },
    {
      "cell_type": "code",
      "metadata": {
        "colab": {
          "base_uri": "https://localhost:8080/"
        },
        "id": "ExtqsEtuormJ",
        "outputId": "cfe0fcfb-35f3-4136-c175-0b89f1a4aa19"
      },
      "source": [
        "sess = tf.Session()\n",
        "sess.run(x.initializer)\n",
        "sess.run(y.initializer)\n",
        "result = sess.run(f)\n",
        "print(result)\n"
      ],
      "execution_count": 10,
      "outputs": [
        {
          "output_type": "stream",
          "text": [
            "42\n"
          ],
          "name": "stdout"
        }
      ]
    },
    {
      "cell_type": "code",
      "metadata": {
        "id": "e84gqi-zosTl"
      },
      "source": [
        "sess.close()"
      ],
      "execution_count": 12,
      "outputs": []
    },
    {
      "cell_type": "code",
      "metadata": {
        "id": "S61ngE8EsVgV"
      },
      "source": [
        "#ANOTHER WAY OF DOING THIS"
      ],
      "execution_count": 13,
      "outputs": []
    },
    {
      "cell_type": "code",
      "metadata": {
        "id": "tIyCngEbJmgY"
      },
      "source": [
        "with tf.Session() as sess:\n",
        "  x.initializer.run()\n",
        "  y.initializer.run()\n",
        "  result = f.eval()\n"
      ],
      "execution_count": 14,
      "outputs": []
    },
    {
      "cell_type": "code",
      "metadata": {
        "colab": {
          "base_uri": "https://localhost:8080/"
        },
        "id": "gEpsQgBrJuT6",
        "outputId": "491cacee-0ee3-4ece-fc23-4b34dd81edd3"
      },
      "source": [
        "print(result)"
      ],
      "execution_count": 15,
      "outputs": [
        {
          "output_type": "stream",
          "text": [
            "42\n"
          ],
          "name": "stdout"
        }
      ]
    },
    {
      "cell_type": "code",
      "metadata": {
        "id": "UWbP56sIJxGm"
      },
      "source": [
        "#Instead of manually running the initializer for every single variable, you can use the global_variables_initializer() function."
      ],
      "execution_count": 16,
      "outputs": []
    },
    {
      "cell_type": "code",
      "metadata": {
        "colab": {
          "base_uri": "https://localhost:8080/"
        },
        "id": "u5pIdakRJ9WY",
        "outputId": "de442f81-e214-407d-bc44-2a82b7d13327"
      },
      "source": [
        "init = tf.global_variables_initializer()   #prepare an init node\n",
        "\n",
        "with tf.Session() as sess:\n",
        "  init.run()     #actually initialize all the variables\n",
        "  result = f.eval()\n",
        "\n",
        "print(result)"
      ],
      "execution_count": 17,
      "outputs": [
        {
          "output_type": "stream",
          "text": [
            "42\n"
          ],
          "name": "stdout"
        }
      ]
    },
    {
      "cell_type": "code",
      "metadata": {
        "colab": {
          "base_uri": "https://localhost:8080/"
        },
        "id": "IxN9cDmwKNQC",
        "outputId": "f41e2970-03ca-4708-c395-5b2c2ed25f7e"
      },
      "source": [
        "sess = tf.InteractiveSession()\n",
        "init.run()\n",
        "result = f.eval()\n",
        "print(result)\n"
      ],
      "execution_count": 18,
      "outputs": [
        {
          "output_type": "stream",
          "text": [
            "42\n"
          ],
          "name": "stdout"
        }
      ]
    },
    {
      "cell_type": "code",
      "metadata": {
        "id": "3cQO8tZSKxtp"
      },
      "source": [
        "sess.close()"
      ],
      "execution_count": 19,
      "outputs": []
    },
    {
      "cell_type": "code",
      "metadata": {
        "id": "RzRclIjGKzAx"
      },
      "source": [
        "#managing the graphs"
      ],
      "execution_count": 20,
      "outputs": []
    },
    {
      "cell_type": "code",
      "metadata": {
        "colab": {
          "base_uri": "https://localhost:8080/"
        },
        "id": "S7XZKBzUK5p7",
        "outputId": "abc22864-2bd6-4fec-88f7-3312f533e72a"
      },
      "source": [
        "x1 = tf.Variable(1)\n",
        "x1.graph is tf.get_default_graph()"
      ],
      "execution_count": 21,
      "outputs": [
        {
          "output_type": "execute_result",
          "data": {
            "text/plain": [
              "True"
            ]
          },
          "metadata": {
            "tags": []
          },
          "execution_count": 21
        }
      ]
    },
    {
      "cell_type": "code",
      "metadata": {
        "id": "vE6O91rJK_Kf"
      },
      "source": [
        "#if you want to create multiple independent graph"
      ],
      "execution_count": 22,
      "outputs": []
    },
    {
      "cell_type": "code",
      "metadata": {
        "colab": {
          "base_uri": "https://localhost:8080/"
        },
        "id": "6CFcRWleLH3Q",
        "outputId": "0205d51c-dab6-4287-8de2-76a25b755afb"
      },
      "source": [
        "graph = tf.Graph()\n",
        "with graph.as_default():\n",
        "  x2 = tf.Variable(2)\n",
        "\n",
        "x2.graph is graph"
      ],
      "execution_count": 23,
      "outputs": [
        {
          "output_type": "execute_result",
          "data": {
            "text/plain": [
              "True"
            ]
          },
          "metadata": {
            "tags": []
          },
          "execution_count": 23
        }
      ]
    },
    {
      "cell_type": "code",
      "metadata": {
        "colab": {
          "base_uri": "https://localhost:8080/"
        },
        "id": "d9ITDighLRfZ",
        "outputId": "647c81cd-1e6d-4917-ce5e-57a521fa8197"
      },
      "source": [
        "x2.graph is tf.get_default_graph()"
      ],
      "execution_count": 24,
      "outputs": [
        {
          "output_type": "execute_result",
          "data": {
            "text/plain": [
              "False"
            ]
          },
          "metadata": {
            "tags": []
          },
          "execution_count": 24
        }
      ]
    },
    {
      "cell_type": "code",
      "metadata": {
        "id": "ZFQIXLlBLV_4"
      },
      "source": [
        "#to reset default graph\n",
        "tf.reset_default_graph()"
      ],
      "execution_count": 26,
      "outputs": []
    },
    {
      "cell_type": "code",
      "metadata": {
        "colab": {
          "base_uri": "https://localhost:8080/"
        },
        "id": "UhXWQh2MLmHQ",
        "outputId": "23e06499-dace-49ae-b630-a79101bee131"
      },
      "source": [
        "#Lifecycle of a Node Value\n",
        "w = tf.constant(3)\n",
        "x = w+2\n",
        "y = x+5\n",
        "z = x*3\n",
        "\n",
        "with tf.Session() as sess:\n",
        "  print(y.eval())\n",
        "  print(z.eval())"
      ],
      "execution_count": 27,
      "outputs": [
        {
          "output_type": "stream",
          "text": [
            "10\n",
            "15\n"
          ],
          "name": "stdout"
        }
      ]
    },
    {
      "cell_type": "code",
      "metadata": {
        "id": "Clr4BaAgMEPS"
      },
      "source": [
        "#If you want to evaluate y and z efficiently, without evaluating w and x twice as in the\n",
        "#previous code, you must ask TensorFlow to evaluate both y and z in just one graph\n",
        "#run."
      ],
      "execution_count": 28,
      "outputs": []
    },
    {
      "cell_type": "code",
      "metadata": {
        "colab": {
          "base_uri": "https://localhost:8080/"
        },
        "id": "aKGzVPVqMkVs",
        "outputId": "b9b52f84-62a7-4e22-ae45-895ab6cea42f"
      },
      "source": [
        "with tf.Session() as sess:\n",
        "  y_val, z_val = sess.run([y,z])\n",
        "  print(y_val)\n",
        "  print(z_val)"
      ],
      "execution_count": 30,
      "outputs": [
        {
          "output_type": "stream",
          "text": [
            "10\n",
            "15\n"
          ],
          "name": "stdout"
        }
      ]
    },
    {
      "cell_type": "code",
      "metadata": {
        "id": "uNxTx5MvMvsD"
      },
      "source": [
        "import numpy as np\n",
        "from sklearn.datasets import fetch_california_housing\n",
        "\n",
        "housing = fetch_california_housing()\n",
        "m,n = housing.data.shape\n",
        "housing_data_plus_bias = np.c_[np.ones((m,1)), housing.data] #Translates slice objects to concatenation along the second axis.\n",
        "\n",
        "X = tf.constant(housing_data_plus_bias, dtype = tf.float32, name = 'X')\n",
        "y = tf.constant(housing.target.reshape(-1,1), dtype = tf.float32, name = 'y')\n",
        "XT = tf.transpose(X)\n",
        "theta = tf.matmul(tf.matmul(tf.matrix_inverse(tf.matmul(XT,X)), XT), y)\n",
        "\n",
        "with tf.Session() as sess:\n",
        "  theta_value = theta.eval()"
      ],
      "execution_count": 32,
      "outputs": []
    },
    {
      "cell_type": "code",
      "metadata": {
        "id": "fLjsmHKJV1fe"
      },
      "source": [
        "#Implementing Batch Gradient Descent\n",
        "\n",
        "#manually computing the gradients"
      ],
      "execution_count": 33,
      "outputs": []
    },
    {
      "cell_type": "code",
      "metadata": {
        "colab": {
          "base_uri": "https://localhost:8080/"
        },
        "id": "k2Hp1Iy3WedK",
        "outputId": "1f794bec-3b5e-4d31-a630-e907a0cc57b3"
      },
      "source": [
        "from sklearn.preprocessing import StandardScaler\n",
        "scaler = StandardScaler()\n",
        "scaled_housing_data = scaler.fit_transform(housing.data)\n",
        "scaled_housing_data_plus_bias = np.c_[np.ones((m,1)), scaled_housing_data]\n",
        "\n",
        "n_epochs = 1000\n",
        "learning_rate = 0.01\n",
        "\n",
        "X = tf.constant(scaled_housing_data_plus_bias, dtype = tf.float32, name = 'X')\n",
        "y = tf.constant(housing.target.reshape(-1,1), dtype = tf.float32,name= 'y')\n",
        "theta = tf.Variable(tf.random_uniform([n+1,1],-1.0,1.0), name= \"theta\")\n",
        "y_pred = tf.matmul(X, theta, name = \"prediction\")\n",
        "error = y_pred - y\n",
        "mse = tf.reduce_mean(tf.square(error), name = \"mse\")\n",
        "gradients = 2/m * tf.matmul(tf.transpose(X), error)\n",
        "training_op = tf.assign(theta, theta - learning_rate * gradients)\n",
        "\n",
        "init = tf.global_variables_initializer()\n",
        "with tf.Session() as sess:\n",
        "  sess.run(init)\n",
        "\n",
        "  for epoch in range(n_epochs):\n",
        "    if epoch %100 ==0:\n",
        "      print(\"Epoch\",  epoch, \"MSE = \", mse.eval())\n",
        "    sess.run(training_op)\n",
        "\n",
        "  best_theta = theta.eval()\n"
      ],
      "execution_count": 36,
      "outputs": [
        {
          "output_type": "stream",
          "text": [
            "Epoch 0 MSE =  6.9127655\n",
            "Epoch 100 MSE =  0.74084187\n",
            "Epoch 200 MSE =  0.62077457\n",
            "Epoch 300 MSE =  0.59401333\n",
            "Epoch 400 MSE =  0.57557815\n",
            "Epoch 500 MSE =  0.5621355\n",
            "Epoch 600 MSE =  0.5522994\n",
            "Epoch 700 MSE =  0.5450873\n",
            "Epoch 800 MSE =  0.53978753\n",
            "Epoch 900 MSE =  0.53588355\n"
          ],
          "name": "stdout"
        }
      ]
    },
    {
      "cell_type": "code",
      "metadata": {
        "colab": {
          "base_uri": "https://localhost:8080/"
        },
        "id": "Eb2MZfAba3OH",
        "outputId": "e472e0d3-f681-48fc-8e3e-ffb79ffe2c23"
      },
      "source": [
        "best_theta"
      ],
      "execution_count": 37,
      "outputs": [
        {
          "output_type": "execute_result",
          "data": {
            "text/plain": [
              "array([[ 2.0685523 ],\n",
              "       [ 0.84008086],\n",
              "       [ 0.15155753],\n",
              "       [-0.22760165],\n",
              "       [ 0.24896424],\n",
              "       [ 0.00729534],\n",
              "       [-0.04232442],\n",
              "       [-0.65091497],\n",
              "       [-0.6199971 ]], dtype=float32)"
            ]
          },
          "metadata": {
            "tags": []
          },
          "execution_count": 37
        }
      ]
    },
    {
      "cell_type": "code",
      "metadata": {
        "id": "OzEqYeIac-vR"
      },
      "source": [
        "#Using autodifference->it can automatically\n",
        "#and efficiently compute the gradients for you"
      ],
      "execution_count": 39,
      "outputs": []
    },
    {
      "cell_type": "code",
      "metadata": {
        "id": "WHJVtEd8dfbV"
      },
      "source": [
        "gradients = tf.gradients(mse, [theta])[0]"
      ],
      "execution_count": 40,
      "outputs": []
    },
    {
      "cell_type": "code",
      "metadata": {
        "id": "YlnzeBJfeq9S"
      },
      "source": [
        "#using an optimizer\n",
        "optimizer = tf.train.GradientDescentOptimizer(learning_rate = learning_rate)\n",
        "training_op = optimizer.minimize(mse)"
      ],
      "execution_count": 41,
      "outputs": []
    },
    {
      "cell_type": "code",
      "metadata": {
        "id": "zp8fJKP2fh6g"
      },
      "source": [
        "#If you want to use a different type of optimizer, you just need to change one line. For\n",
        "#example, you can use a momentum optimizer\n",
        "\n",
        "optimizer = tf.train.MomentumOptimizer(learning_rate  = learning_rate, momentum = 0.9)"
      ],
      "execution_count": 42,
      "outputs": []
    },
    {
      "cell_type": "code",
      "metadata": {
        "id": "b6iFUBYGf5Ii"
      },
      "source": [
        "#Feeding Data to the Training Algorithm"
      ],
      "execution_count": 43,
      "outputs": []
    },
    {
      "cell_type": "code",
      "metadata": {
        "id": "hN9EKqjcf-OY"
      },
      "source": [
        "#implementing mini gradient descent \n",
        "#we will be using placeholders"
      ],
      "execution_count": 44,
      "outputs": []
    },
    {
      "cell_type": "code",
      "metadata": {
        "id": "ghkJbIbHgxil"
      },
      "source": [
        "X = tf.placeholder(tf.float32, shape = (None, n+1), name = \"X\")\n",
        "y = tf.placeholder(tf.float32, shape=(None, 1), name = \"y\")\n",
        "\n",
        "\n",
        "batch_size = 100\n",
        "n_batches = int(np.ceil(m/ batch_size))   #Return the ceiling of the input, element-wise.\n",
        "\n",
        "def fetch_batch(epoch, batch_index, batch_size):\n",
        "  np.random.seed(epoch*n_batches + batch_index)\n",
        "  indices = np.random.randint(m, size = batch_size)\n",
        "  X_batch = scaled_housing_data_plus_bias[indices]\n",
        "  y_batch = housing.target.reshape(-1,1)[indices]\n",
        "  return X_batch, y_batch\n",
        "\n",
        "with tf.Session() as sess:\n",
        "  sess.run(init)\n",
        "\n",
        "  for epoch in range(n_epochs):\n",
        "    for batch_index in range(n_batches):\n",
        "      X_batch, y_batch = fetch_batch(epoch, batch_index, batch_size)\n",
        "      sess.run(training_op, feed_dict = {X:X_batch, y:y_batch})\n",
        "  best_theta = theta.eval()\n"
      ],
      "execution_count": 45,
      "outputs": []
    },
    {
      "cell_type": "code",
      "metadata": {
        "colab": {
          "base_uri": "https://localhost:8080/"
        },
        "id": "wXtr3yZwj_lh",
        "outputId": "6107fdb1-47fa-41e2-858c-b7b9767cc966"
      },
      "source": [
        "best_theta"
      ],
      "execution_count": 46,
      "outputs": [
        {
          "output_type": "execute_result",
          "data": {
            "text/plain": [
              "array([[ 2.0685525 ],\n",
              "       [ 0.82963324],\n",
              "       [ 0.11875443],\n",
              "       [-0.26555082],\n",
              "       [ 0.3057157 ],\n",
              "       [-0.00450222],\n",
              "       [-0.03932687],\n",
              "       [-0.8998529 ],\n",
              "       [-0.8705097 ]], dtype=float32)"
            ]
          },
          "metadata": {
            "tags": []
          },
          "execution_count": 46
        }
      ]
    },
    {
      "cell_type": "code",
      "metadata": {
        "colab": {
          "base_uri": "https://localhost:8080/"
        },
        "id": "gG_Tn10T0Aru",
        "outputId": "2b588e4b-bbfd-4abf-ed95-57a70b55f190"
      },
      "source": [
        "#saving and restoring models\n",
        "\n",
        "n_epochs = 1000\n",
        "\n",
        "learning_rate = 0.01\n",
        "\n",
        "X= tf.constant(scaled_housing_data_plus_bias, dtype= tf.float32, name = 'X')\n",
        "y = tf.constant(housing.target.reshape(-1,1), dtype = tf.float32, name = 'y')\n",
        "\n",
        "theta = tf.Variable(tf.random_uniform([n+1,1], -1.0,1.0), name = 'theta')\n",
        "y_pred = tf.matmul(X, theta, name = \"prediction\")\n",
        "\n",
        "error =  y_pred - y\n",
        "\n",
        "mse = tf.reduce_mean(tf.square(error), name=\"mse\")\n",
        "optimizer = tf.train.GradientDescentOptimizer(learning_rate = learning_rate)\n",
        "training_op  = optimizer.minimize(mse)\n",
        "\n",
        "init = tf.global_variables_initializer()\n",
        "saver = tf.train.Saver()\n",
        "\n",
        "with tf.Session() as sess:\n",
        "  sess.run(init)\n",
        "\n",
        "  for epoch in range(n_epochs):\n",
        "    if epoch % 100 ==0:\n",
        "      print(\"epoch\", epoch, \"MSE\", mse.eval())\n",
        "      \n",
        "      save_path = saver.save(sess, \"/tmp/my_model.ckpt\")\n",
        "    sess.run(training_op)\n",
        "  best_theta = theta.eval()\n",
        "  save_path = saver.save(sess,\"/tmp/my_model_final.ckpt\")"
      ],
      "execution_count": 49,
      "outputs": [
        {
          "output_type": "stream",
          "text": [
            "epoch 0 MSE 13.888548\n",
            "epoch 100 MSE 0.7614644\n",
            "epoch 200 MSE 0.5687348\n",
            "epoch 300 MSE 0.5571052\n",
            "epoch 400 MSE 0.55069077\n",
            "epoch 500 MSE 0.54566574\n",
            "epoch 600 MSE 0.54165596\n",
            "epoch 700 MSE 0.53844047\n",
            "epoch 800 MSE 0.5358518\n",
            "epoch 900 MSE 0.53375995\n"
          ],
          "name": "stdout"
        }
      ]
    },
    {
      "cell_type": "code",
      "metadata": {
        "colab": {
          "base_uri": "https://localhost:8080/"
        },
        "id": "h0wng-h12lfS",
        "outputId": "1ddf3c54-8a7d-4143-ad48-8591e2755e69"
      },
      "source": [
        "#restoring model\n",
        "with tf.Session() as sess:\n",
        "  saver.restore(sess, \"/tmp/my_model_final.ckpt\")\n",
        "  best_theta_restored = theta.eval()"
      ],
      "execution_count": 50,
      "outputs": [
        {
          "output_type": "stream",
          "text": [
            "INFO:tensorflow:Restoring parameters from /tmp/my_model_final.ckpt\n"
          ],
          "name": "stdout"
        }
      ]
    },
    {
      "cell_type": "code",
      "metadata": {
        "colab": {
          "base_uri": "https://localhost:8080/"
        },
        "id": "7ysvoJWu4hzS",
        "outputId": "721cbc9f-41a2-4d08-d936-4a0595ad0f36"
      },
      "source": [
        "np.allclose(best_theta, best_theta_restored)\n"
      ],
      "execution_count": 51,
      "outputs": [
        {
          "output_type": "execute_result",
          "data": {
            "text/plain": [
              "True"
            ]
          },
          "metadata": {
            "tags": []
          },
          "execution_count": 51
        }
      ]
    },
    {
      "cell_type": "code",
      "metadata": {
        "id": "2xedZfWS4l_L"
      },
      "source": [
        "saver = tf.train.Saver({\"weights\": theta})"
      ],
      "execution_count": 52,
      "outputs": []
    },
    {
      "cell_type": "code",
      "metadata": {
        "id": "IxtZRIP-4pDy"
      },
      "source": [
        ""
      ],
      "execution_count": null,
      "outputs": []
    }
  ]
}